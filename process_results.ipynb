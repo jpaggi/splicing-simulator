{
 "cells": [
  {
   "cell_type": "code",
   "execution_count": 1,
   "metadata": {
    "collapsed": false
   },
   "outputs": [
    {
     "name": "stderr",
     "output_type": "stream",
     "text": [
      "//anaconda/lib/python2.7/site-packages/matplotlib/font_manager.py:273: UserWarning: Matplotlib is building the font cache using fc-list. This may take a moment.\n",
      "  warnings.warn('Matplotlib is building the font cache using fc-list. This may take a moment.')\n"
     ]
    }
   ],
   "source": [
    "import matplotlib.pyplot as plt\n",
    "%matplotlib inline\n",
    "REPS = 5"
   ]
  },
  {
   "cell_type": "code",
   "execution_count": 2,
   "metadata": {
    "collapsed": false
   },
   "outputs": [],
   "source": [
    "class Gene:\n",
    "    def __init__(self, true_five, true_three):\n",
    "        self.five = true_five\n",
    "        self.three = true_three\n",
    "        self.pred_five = []\n",
    "        self.pred_three = []\n",
    "        \n",
    "    def add_pred(self, five, three):\n",
    "        self.pred_five.append(five)\n",
    "        self.pred_three.append(three)\n",
    "        \n",
    "    def compatible(self, five,  three):\n",
    "        return five == self.five and three == self.three\n",
    "    \n",
    "    def validate(self):\n",
    "        return len(self.pred_five) == len(self.pred_three) == REPS\n",
    "    \n",
    "    def match_five(self, i):\n",
    "        return self.pred_five[i] == self.five\n",
    "    \n",
    "    def match_three(self, i):\n",
    "        return self.pred_three[i] == self.three\n",
    "    \n",
    "    def any_five(self):\n",
    "        return self.five if self.five in self.pred_five else None\n",
    "    \n",
    "    def any_three(self):\n",
    "        return self.three if self.three in self.pred_three else None\n",
    "    \n",
    "    def match(self, i):\n",
    "        return self.match_five(i) and self.match_three(i)\n",
    "    \n",
    "    def any_match(self):\n",
    "        return any(self.match(i) for i in range(len(self.pred_five)))\n",
    "    \n",
    "    def no_splice(self):\n",
    "        return all(el == -1 for el in self.pred_five)\n",
    "    \n",
    "    def directions(self):\n",
    "        up, down = 0, 0\n",
    "        for five, three in zip(self.pred_five, self.pred_three):\n",
    "            up += five < three\n",
    "            down += five > three\n",
    "        return up, down\n",
    "    \n",
    "    def true_dist(self):\n",
    "        return (self.three - self.five)*15\n",
    "    \n",
    "    def obs_dists(self):\n",
    "        return [(i-j)*15 for i, j in zip(self.pred_three, self.pred_five)]"
   ]
  },
  {
   "cell_type": "code",
   "execution_count": 3,
   "metadata": {
    "collapsed": false
   },
   "outputs": [
    {
     "data": {
      "text/plain": [
       "273"
      ]
     },
     "execution_count": 3,
     "metadata": {},
     "output_type": "execute_result"
    }
   ],
   "source": [
    "genes = {}\n",
    "with open('better_results.tsv') as record:\n",
    "    for line in record:\n",
    "        i, true_five, true_three, pred_five, pred_three = map(int, line.strip().split())\n",
    "        if i not in genes: genes[i] = Gene(true_five, true_three)\n",
    "        genes[i].add_pred(pred_five, pred_three)\n",
    "        assert genes[i].compatible(true_five, true_three)\n",
    "\n",
    "for gene in genes.values():\n",
    "    assert gene.validate()\n",
    "\n",
    "len(genes)"
   ]
  },
  {
   "cell_type": "code",
   "execution_count": 4,
   "metadata": {
    "collapsed": false
   },
   "outputs": [
    {
     "data": {
      "text/plain": [
       "(56, 216, 85)"
      ]
     },
     "execution_count": 4,
     "metadata": {},
     "output_type": "execute_result"
    }
   ],
   "source": [
    "perfect = filter(lambda x: x.any_match(), genes.values())\n",
    "match_five = filter(lambda x: x is not None, map(lambda x: x.any_five(), genes.values()))\n",
    "match_three = filter(lambda x: x is not None, map(lambda x: x.any_three(), genes.values()))\n",
    "len(perfect), len(match_five), len(match_three)"
   ]
  },
  {
   "cell_type": "code",
   "execution_count": 5,
   "metadata": {
    "collapsed": false
   },
   "outputs": [
    {
     "data": {
      "text/plain": [
       "4"
      ]
     },
     "execution_count": 5,
     "metadata": {},
     "output_type": "execute_result"
    }
   ],
   "source": [
    "no_splice = filter(lambda x: x.no_splice(), genes.values())\n",
    "len(no_splice)"
   ]
  },
  {
   "cell_type": "code",
   "execution_count": 6,
   "metadata": {
    "collapsed": false
   },
   "outputs": [
    {
     "name": "stdout",
     "output_type": "stream",
     "text": [
      "857 splices have upstream 5'ss, while, 322 do not.\n"
     ]
    }
   ],
   "source": [
    "direction = [0, 0]\n",
    "for gene in genes.values():\n",
    "    direction = [i+j for i, j in zip(direction, gene.directions())]\n",
    "print \"{} splices have upstream 5'ss, while, {} do not.\".format(*direction)"
   ]
  },
  {
   "cell_type": "code",
   "execution_count": 7,
   "metadata": {
    "collapsed": false
   },
   "outputs": [
    {
     "data": {
      "image/png": "[encoded data removed]",
      "text/plain": [
       "<matplotlib.figure.Figure at 0x10b8af890>"
      ]
     },
     "metadata": {},
     "output_type": "display_data"
    }
   ],
   "source": [
    "# The longer peak is ribosomal proteins\n",
    "true_dists = map(lambda x: x.true_dist(), genes.values())\n",
    "plt.hist(true_dists, bins = 20)\n",
    "plt.show()"
   ]
  },
  {
   "cell_type": "code",
   "execution_count": 8,
   "metadata": {
    "collapsed": false
   },
   "outputs": [
    {
     "data": {
      "image/png": "[encoded data removed]",
      "text/plain": [
       "<matplotlib.figure.Figure at 0x10df15fd0>"
      ]
     },
     "metadata": {},
     "output_type": "display_data"
    }
   ],
   "source": [
    "observed_dists = [el for group in map(lambda x: x.obs_dists(), genes.values()) for el in group]\n",
    "plt.hist(observed_dists, bins = 20)\n",
    "plt.show()"
   ]
  },
  {
   "cell_type": "code",
   "execution_count": 12,
   "metadata": {
    "collapsed": false
   },
   "outputs": [
    {
     "data": {
      "image/png": "[encoded data removed]",
      "text/plain": [
       "<matplotlib.figure.Figure at 0x10ec19c50>"
      ]
     },
     "metadata": {},
     "output_type": "display_data"
    }
   ],
   "source": [
    "perfect_dists = map(lambda x: x.true_dist(), perfect)\n",
    "#plt.hist(true_dists, bins = 20)\n",
    "plt.hist(perfect_dists, bins = 20)\n",
    "plt.show()"
   ]
  },
  {
   "cell_type": "code",
   "execution_count": 14,
   "metadata": {
    "collapsed": false
   },
   "outputs": [
    {
     "data": {
      "image/png": "[encoded data removed]",
      "text/plain": [
       "<matplotlib.figure.Figure at 0x10efdbd90>"
      ]
     },
     "metadata": {},
     "output_type": "display_data"
    }
   ],
   "source": [
    "plt.hist(map(lambda x: x.five * 15, genes.values()), bins = 20)\n",
    "#plt.hist(match_five, bins = 20)\n",
    "plt.show()"
   ]
  },
  {
   "cell_type": "code",
   "execution_count": 11,
   "metadata": {
    "collapsed": false
   },
   "outputs": [
    {
     "data": {
      "image/png": "[encoded data removed]",
      "text/plain": [
       "<matplotlib.figure.Figure at 0x10e95f5d0>"
      ]
     },
     "metadata": {},
     "output_type": "display_data"
    }
   ],
   "source": [
    "plt.hist(map(lambda x: x.three, genes.values()), bins = 20)\n",
    "plt.hist(match_three, bins = 20)\n",
    "plt.show()"
   ]
  },
  {
   "cell_type": "code",
   "execution_count": null,
   "metadata": {
    "collapsed": true
   },
   "outputs": [],
   "source": []
  }
 ],
 "metadata": {
  "anaconda-cloud": {},
  "kernelspec": {
   "display_name": "Python [conda root]",
   "language": "python",
   "name": "conda-root-py"
  },
  "language_info": {
   "codemirror_mode": {
    "name": "ipython",
    "version": 2
   },
   "file_extension": ".py",
   "mimetype": "text/x-python",
   "name": "python",
   "nbconvert_exporter": "python",
   "pygments_lexer": "ipython2",
   "version": "2.7.12"
  }
 },
 "nbformat": 4,
 "nbformat_minor": 1
}
